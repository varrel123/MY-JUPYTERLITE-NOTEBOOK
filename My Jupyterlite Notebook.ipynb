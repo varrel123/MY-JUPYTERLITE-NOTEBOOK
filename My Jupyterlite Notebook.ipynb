{
 "cells": [
  {
   "cell_type": "markdown",
   "metadata": {},
   "source": [
    "# MY JUPYTERLITE NOTEBOOK (Exercise 2)"
   ]
  },
  {
   "cell_type": "markdown",
   "metadata": {},
   "source": [
    "## Welcome to this notebook. (Exercise 3)\n",
    "Here we will cover various topics in data science."
   ]
  },
  {
   "cell_type": "markdown",
   "metadata": {},
   "source": [
    "## List of Data Science Languages (Exercise 4)\n",
    "- Python\n",
    "- R\n",
    "- SQL\n",
    "- Scala\n",
    "- Java\n",
    "- C++\n",
    "- Julia\n",
    "- JavaScript\n",
    "- PHP\n",
    "- Go\n",
    "- Ruby\n",
    "- Visual Basic"
   ]
  },
  {
   "cell_type": "markdown",
   "metadata": {},
   "source": [
    "## Data Science Library (Exercise 5)\n",
    "- Pandas\n",
    "- NumPy\n",
    "- Scikit-Learn\n",
    "- Matplotlib\n",
    "- Seaborn\n",
    "- Keras\n",
    "- TensorFlow\n",
    "- PyTorch\n",
    "- Apache Spark\n",
    "- Vegas\n",
    "- BIG DL\n",
    "- Ggplot2"
   ]
  },
  {
   "cell_type": "markdown",
   "metadata": {},
   "source": [
    "## Data Science Tools Table (Exercise 6)\n",
    "\n",
    "| Tools                  | \n",
    "|------------------------|\n",
    "| Anaconda               |\n",
    "| Jupyter Notebooks      |\n",
    "| R Studio               |\n",
    "| Spyder                 |\n",
    "| Zeeppelin              |"
   ]
  },
  {
   "cell_type": "markdown",
   "metadata": {},
   "source": [
    "## Arithmetic Expressions (Exercise 7)\n",
    "\n",
    "Examples of arithmetic expressions:\n",
    "\n",
    "- Addition: `a + b`\n",
    "- Subtraction: `a - b`\n",
    "- Multiplication: `a * b`\n",
    "- Division: `a / b`\n",
    "\n",
    "Note :\n",
    "a and b are numeric"
   ]
  },
  {
   "cell_type": "code",
   "execution_count": 1,
   "metadata": {},
   "outputs": [
    {
     "data": {
      "text/plain": [
       "(50, 15)"
      ]
     },
     "execution_count": 1,
     "metadata": {},
     "output_type": "execute_result"
    }
   ],
   "source": [
    "# Multiplying and Adding Numbers (Exercise 8)\n",
    "\n",
    "a = 5\n",
    "b = 10\n",
    "multiplication = a * b\n",
    "addition = a + b\n",
    "multiplication, addition"
   ]
  },
  {
   "cell_type": "code",
   "execution_count": 2,
   "metadata": {},
   "outputs": [
    {
     "name": "stdout",
     "output_type": "stream",
     "text": [
      "120 minutes is equivalent to 2 hours and 0 minutes.\n"
     ]
    }
   ],
   "source": [
    "# Convert Minutes to Hours with User Input (Exercise 9)\n",
    "\n",
    "def minutes_to_hours(minutes):\n",
    "    hours = minutes // 60\n",
    "    minutes_remaining = minutes % 60\n",
    "    return hours, minutes_remaining\n",
    "\n",
    "# Get input from the user\n",
    "try:\n",
    "    minutes = int(input(\"Enter the number of minutes: \"))\n",
    "    hours, minutes_remaining = minutes_to_hours(minutes)\n",
    "    print(f\"{minutes} minutes is equivalent to {hours} hours and {minutes_remaining} minutes.\")\n",
    "except ValueError:\n",
    "    print(\"Please enter a valid integer.\")"
   ]
  },
  {
   "cell_type": "markdown",
   "metadata": {},
   "source": [
    "## Objectives (Exercise 10)\n",
    "\n",
    "- Understand the basics of Python\n",
    "- Understand the basics of GitHub\n",
    "- Understand the basics of JupyterLite\n",
    "- Add comment to code cells\n",
    "- Create Markdown cells\n",
    "- Add Ordered \n",
    "- Format Content of markdow cells with Heading Styles"
   ]
  },
  {
   "cell_type": "markdown",
   "metadata": {},
   "source": [
    "## Author\n",
    "\n",
    "The author of this notebook is Mohammad Varrel Bramasta."
   ]
  }
 ],
 "metadata": {
  "kernelspec": {
   "display_name": "base",
   "language": "python",
   "name": "python3"
  },
  "language_info": {
   "codemirror_mode": {
    "name": "ipython",
    "version": 3
   },
   "file_extension": ".py",
   "mimetype": "text/x-python",
   "name": "python",
   "nbconvert_exporter": "python",
   "pygments_lexer": "ipython3",
   "version": "3.12.4"
  }
 },
 "nbformat": 4,
 "nbformat_minor": 2
}
